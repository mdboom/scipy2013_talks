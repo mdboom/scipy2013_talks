{
 "metadata": {
  "name": "astropy"
 },
 "nbformat": 3,
 "nbformat_minor": 0,
 "worksheets": [
  {
   "cells": [
    {
     "cell_type": "markdown",
     "metadata": {
      "slideshow": {
       "slide_type": "slide"
      }
     },
     "source": [
      "![caption](files/astropy_logo.png)\n",
      "\n",
      "# bringing astronomical tools down to earth\n",
      "\n",
      "```\n",
      "Michael Droettboom, Nadia Dencheva\n",
      "Space Telescope Science Institute\n",
      "Baltimore, MD\n",
      "\n",
      "Tom Aldcroft\n",
      "Harvard-Smithsonian Center for Astronomy\n",
      "Cambridge, MA\n",
      "```"
     ]
    },
    {
     "cell_type": "markdown",
     "metadata": {
      "slideshow": {
       "slide_type": "slide"
      }
     },
     "source": [
      "# Units\n",
      "\n",
      "## Michael Droettboom  (mdroe@stsci.edu)\n",
      "\n",
      "- Separation and conversion between systems (e.g. SI and CGS)\n",
      "\n",
      "- Equivalencies (e.g. frequency to wavelength)\n",
      "\n",
      "- Multiple serialization formats"
     ]
    },
    {
     "cell_type": "code",
     "collapsed": false,
     "input": [
      "from astropy import units as u"
     ],
     "language": "python",
     "metadata": {
      "slideshow": {
       "slide_type": "slide"
      }
     },
     "outputs": [],
     "prompt_number": 1
    },
    {
     "cell_type": "code",
     "collapsed": false,
     "input": [
      "u.m"
     ],
     "language": "python",
     "metadata": {
      "slideshow": {
       "slide_type": "fragment"
      }
     },
     "outputs": [
      {
       "latex": [
        "$\\mathrm{m}$"
       ],
       "metadata": {},
       "output_type": "pyout",
       "prompt_number": 2,
       "text": [
        "Unit(\"m\")"
       ]
      }
     ],
     "prompt_number": 2
    },
    {
     "cell_type": "code",
     "collapsed": false,
     "input": [
      "u.m.__doc__"
     ],
     "language": "python",
     "metadata": {
      "slideshow": {
       "slide_type": "fragment"
      }
     },
     "outputs": [
      {
       "metadata": {},
       "output_type": "pyout",
       "prompt_number": 3,
       "text": [
        "u'meter: base unit of length in SI'"
       ]
      }
     ],
     "prompt_number": 3
    },
    {
     "cell_type": "code",
     "collapsed": false,
     "input": [
      "u.pc.to(u.m)"
     ],
     "language": "python",
     "metadata": {
      "slideshow": {
       "slide_type": "fragment"
      }
     },
     "outputs": [
      {
       "metadata": {},
       "output_type": "pyout",
       "prompt_number": 4,
       "text": [
        "30856775814671916.0"
       ]
      }
     ],
     "prompt_number": 4
    },
    {
     "cell_type": "code",
     "collapsed": false,
     "input": [
      "u.m.physical_type"
     ],
     "language": "python",
     "metadata": {
      "slideshow": {
       "slide_type": "fragment"
      }
     },
     "outputs": [
      {
       "metadata": {},
       "output_type": "pyout",
       "prompt_number": 5,
       "text": [
        "u'length'"
       ]
      }
     ],
     "prompt_number": 5
    },
    {
     "cell_type": "code",
     "collapsed": false,
     "input": [
      "u.m.find_equivalent_units()"
     ],
     "language": "python",
     "metadata": {
      "slideshow": {
       "slide_type": "slide"
      }
     },
     "outputs": [
      {
       "metadata": {},
       "output_type": "pyout",
       "prompt_number": 6,
       "text": [
        "  Primary name | Unit definition | Aliases         \n",
        "[\n",
        "  AU           | 1.49598e+11 m   | au               ,\n",
        "  Angstrom     | 1e-10 m         | AA, angstrom     ,\n",
        "  cm           | 0.01 m          | centimeter       ,\n",
        "  ft           | 0.3048 m        | foot             ,\n",
        "  inch         | 0.0254 m        |                  ,\n",
        "  lyr          | 9.46073e+15 m   | lightyear        ,\n",
        "  m            | irreducible     | meter            ,\n",
        "  mi           | 1609.34 m       | mile             ,\n",
        "  micron       | 1e-06 m         |                  ,\n",
        "  nmi          | 1852 m          | nauticalmile, NM ,\n",
        "  pc           | 3.08568e+16 m   | parsec           ,\n",
        "  solRad       | 6.95508e+08 m   | R_sun            ,\n",
        "  yd           | 0.9144 m        | yard             ,\n",
        "]"
       ]
      }
     ],
     "prompt_number": 6
    },
    {
     "cell_type": "markdown",
     "metadata": {
      "slideshow": {
       "slide_type": "slide"
      }
     },
     "source": [
      "## Custom units"
     ]
    },
    {
     "cell_type": "code",
     "collapsed": false,
     "input": [
      "# Define some custom units, composed of the built-in ones\n",
      "mph = u.mile / u.hour\n",
      "ypf = u.yd / u.fortnight\n",
      "mph.to(ypf)"
     ],
     "language": "python",
     "metadata": {
      "slideshow": {
       "slide_type": "fragment"
      }
     },
     "outputs": [
      {
       "metadata": {},
       "output_type": "pyout",
       "prompt_number": 7,
       "text": [
        "591359.9999999999"
       ]
      }
     ],
     "prompt_number": 7
    },
    {
     "cell_type": "markdown",
     "metadata": {
      "slideshow": {
       "slide_type": "slide"
      }
     },
     "source": [
      "## Equivalencies"
     ]
    },
    {
     "cell_type": "code",
     "collapsed": false,
     "input": [
      "u.nm.to(u.Hz)"
     ],
     "language": "python",
     "metadata": {
      "slideshow": {
       "slide_type": "fragment"
      }
     },
     "outputs": [
      {
       "ename": "UnitsException",
       "evalue": "'nm' (length) and 'Hz' (frequency) are not convertible",
       "output_type": "pyerr",
       "traceback": [
        "\u001b[1;31m---------------------------------------------------------------------------\u001b[0m\n\u001b[1;31mUnitsException\u001b[0m                            Traceback (most recent call last)",
        "\u001b[1;32m<ipython-input-8-5fb0ffb9d2db>\u001b[0m in \u001b[0;36m<module>\u001b[1;34m()\u001b[0m\n\u001b[1;32m----> 1\u001b[1;33m \u001b[0mu\u001b[0m\u001b[1;33m.\u001b[0m\u001b[0mnm\u001b[0m\u001b[1;33m.\u001b[0m\u001b[0mto\u001b[0m\u001b[1;33m(\u001b[0m\u001b[0mu\u001b[0m\u001b[1;33m.\u001b[0m\u001b[0mHz\u001b[0m\u001b[1;33m)\u001b[0m\u001b[1;33m\u001b[0m\u001b[0m\n\u001b[0m",
        "\u001b[1;32m/home/mdboom/python/lib/python2.7/site-packages/astropy-0.3.dev4583-py2.7-linux-x86_64.egg/astropy/units/core.pyc\u001b[0m in \u001b[0;36mto\u001b[1;34m(self, other, value, equivalencies)\u001b[0m\n\u001b[0;32m    508\u001b[0m \u001b[1;33m\u001b[0m\u001b[0m\n\u001b[0;32m    509\u001b[0m         \u001b[0mother\u001b[0m \u001b[1;33m=\u001b[0m \u001b[0mUnit\u001b[0m\u001b[1;33m(\u001b[0m\u001b[0mother\u001b[0m\u001b[1;33m)\u001b[0m\u001b[1;33m\u001b[0m\u001b[0m\n\u001b[1;32m--> 510\u001b[1;33m         \u001b[1;32mreturn\u001b[0m \u001b[0mself\u001b[0m\u001b[1;33m.\u001b[0m\u001b[0mget_converter\u001b[0m\u001b[1;33m(\u001b[0m\u001b[0mother\u001b[0m\u001b[1;33m,\u001b[0m \u001b[0mequivalencies\u001b[0m\u001b[1;33m=\u001b[0m\u001b[0mequivalencies\u001b[0m\u001b[1;33m)\u001b[0m\u001b[1;33m(\u001b[0m\u001b[0mvalue\u001b[0m\u001b[1;33m)\u001b[0m\u001b[1;33m\u001b[0m\u001b[0m\n\u001b[0m\u001b[0;32m    511\u001b[0m \u001b[1;33m\u001b[0m\u001b[0m\n\u001b[0;32m    512\u001b[0m     \u001b[1;32mdef\u001b[0m \u001b[0min_units\u001b[0m\u001b[1;33m(\u001b[0m\u001b[0mself\u001b[0m\u001b[1;33m,\u001b[0m \u001b[0mother\u001b[0m\u001b[1;33m,\u001b[0m \u001b[0mvalue\u001b[0m\u001b[1;33m=\u001b[0m\u001b[1;36m1.0\u001b[0m\u001b[1;33m,\u001b[0m \u001b[0mequivalencies\u001b[0m\u001b[1;33m=\u001b[0m\u001b[1;33m[\u001b[0m\u001b[1;33m]\u001b[0m\u001b[1;33m)\u001b[0m\u001b[1;33m:\u001b[0m\u001b[1;33m\u001b[0m\u001b[0m\n",
        "\u001b[1;32m/home/mdboom/python/lib/python2.7/site-packages/astropy-0.3.dev4583-py2.7-linux-x86_64.egg/astropy/units/core.pyc\u001b[0m in \u001b[0;36mget_converter\u001b[1;34m(self, other, equivalencies)\u001b[0m\n\u001b[0;32m    475\u001b[0m         \u001b[1;32mexcept\u001b[0m \u001b[0mUnitsException\u001b[0m\u001b[1;33m:\u001b[0m\u001b[1;33m\u001b[0m\u001b[0m\n\u001b[0;32m    476\u001b[0m             return self._apply_equivalences(\n\u001b[1;32m--> 477\u001b[1;33m                 self, other, equivalencies)\n\u001b[0m\u001b[0;32m    478\u001b[0m         \u001b[1;32mreturn\u001b[0m \u001b[1;32mlambda\u001b[0m \u001b[0mval\u001b[0m\u001b[1;33m:\u001b[0m \u001b[0mscale\u001b[0m \u001b[1;33m*\u001b[0m \u001b[0m_condition_arg\u001b[0m\u001b[1;33m(\u001b[0m\u001b[0mval\u001b[0m\u001b[1;33m)\u001b[0m\u001b[1;33m\u001b[0m\u001b[0m\n\u001b[0;32m    479\u001b[0m \u001b[1;33m\u001b[0m\u001b[0m\n",
        "\u001b[1;32m/home/mdboom/python/lib/python2.7/site-packages/astropy-0.3.dev4583-py2.7-linux-x86_64.egg/astropy/units/core.pyc\u001b[0m in \u001b[0;36m_apply_equivalences\u001b[1;34m(self, unit, other, equivalencies)\u001b[0m\n\u001b[0;32m    439\u001b[0m         raise UnitsException(\n\u001b[0;32m    440\u001b[0m             \"{0} and {1} are not convertible\".format(\n\u001b[1;32m--> 441\u001b[1;33m                 unit_str, other_str))\n\u001b[0m\u001b[0;32m    442\u001b[0m \u001b[1;33m\u001b[0m\u001b[0m\n\u001b[0;32m    443\u001b[0m     \u001b[1;32mdef\u001b[0m \u001b[0mget_converter\u001b[0m\u001b[1;33m(\u001b[0m\u001b[0mself\u001b[0m\u001b[1;33m,\u001b[0m \u001b[0mother\u001b[0m\u001b[1;33m,\u001b[0m \u001b[0mequivalencies\u001b[0m\u001b[1;33m=\u001b[0m\u001b[1;33m[\u001b[0m\u001b[1;33m]\u001b[0m\u001b[1;33m)\u001b[0m\u001b[1;33m:\u001b[0m\u001b[1;33m\u001b[0m\u001b[0m\n",
        "\u001b[1;31mUnitsException\u001b[0m: 'nm' (length) and 'Hz' (frequency) are not convertible"
       ]
      },
      {
       "output_type": "stream",
       "stream": "stdout",
       "text": [
        "ERROR: UnitsException: 'nm' (length) and 'Hz' (frequency) are not convertible [astropy.units.core]\n"
       ]
      }
     ],
     "prompt_number": 8
    },
    {
     "cell_type": "code",
     "collapsed": false,
     "input": [
      "u.nm.to(u.Hz, equivalencies=u.spectral())"
     ],
     "language": "python",
     "metadata": {
      "slideshow": {
       "slide_type": "fragment"
      }
     },
     "outputs": [
      {
       "metadata": {},
       "output_type": "pyout",
       "prompt_number": 9,
       "text": [
        "2.99792458e+17"
       ]
      }
     ],
     "prompt_number": 9
    },
    {
     "cell_type": "code",
     "collapsed": false,
     "input": [
      "u.Hz.find_equivalent_units(equivalencies=u.spectral())"
     ],
     "language": "python",
     "metadata": {
      "slideshow": {
       "slide_type": "slide"
      }
     },
     "outputs": [
      {
       "metadata": {},
       "output_type": "pyout",
       "prompt_number": 10,
       "text": [
        "  Primary name | Unit definition        | Aliases                           \n",
        "[\n",
        "  AU           | 1.49598e+11 m          | au                                 ,\n",
        "  Angstrom     | 1e-10 m                | AA, angstrom                       ,\n",
        "  BTU          | 1055.06 kg m2 / s2     | btu                                ,\n",
        "  Bq           | 1 / s                  | becquerel                          ,\n",
        "  Ci           | 2.7027e-11 / s         | curie                              ,\n",
        "  Hz           | 1 / s                  | Hertz, hertz                       ,\n",
        "  J            | kg m2 / s2             | Joule, joule                       ,\n",
        "  Ry           | 2.17987e-18 kg m2 / s2 | rydberg                            ,\n",
        "  cal          | 4.184 kg m2 / s2       | calorie                            ,\n",
        "  cm           | 0.01 m                 | centimeter                         ,\n",
        "  eV           | 1.60218e-19 kg m2 / s2 | electronvolt                       ,\n",
        "  erg          | 1e-07 kg m2 / s2       |                                    ,\n",
        "  ft           | 0.3048 m               | foot                               ,\n",
        "  inch         | 0.0254 m               |                                    ,\n",
        "  kcal         | 4184 kg m2 / s2        | Cal, Calorie, kilocal, kilocalorie ,\n",
        "  lyr          | 9.46073e+15 m          | lightyear                          ,\n",
        "  m            | irreducible            | meter                              ,\n",
        "  mi           | 1609.34 m              | mile                               ,\n",
        "  micron       | 1e-06 m                |                                    ,\n",
        "  nmi          | 1852 m                 | nauticalmile, NM                   ,\n",
        "  pc           | 3.08568e+16 m          | parsec                             ,\n",
        "  solRad       | 6.95508e+08 m          | R_sun                              ,\n",
        "  yd           | 0.9144 m               | yard                               ,\n",
        "]"
       ]
      }
     ],
     "prompt_number": 10
    },
    {
     "cell_type": "markdown",
     "metadata": {
      "slideshow": {
       "slide_type": "slide"
      }
     },
     "source": [
      "## Decomposition"
     ]
    },
    {
     "cell_type": "code",
     "collapsed": false,
     "input": [
      "u.Ry"
     ],
     "language": "python",
     "metadata": {
      "slideshow": {
       "slide_type": "fragment"
      }
     },
     "outputs": [
      {
       "latex": [
        "$\\mathrm{R_{\\infty}}$"
       ],
       "metadata": {},
       "output_type": "pyout",
       "prompt_number": 11,
       "text": [
        "Unit(\"Ry\")"
       ]
      }
     ],
     "prompt_number": 11
    },
    {
     "cell_type": "code",
     "collapsed": false,
     "input": [
      "u.Ry.physical_type"
     ],
     "language": "python",
     "metadata": {
      "slideshow": {
       "slide_type": "fragment"
      }
     },
     "outputs": [
      {
       "metadata": {},
       "output_type": "pyout",
       "prompt_number": 12,
       "text": [
        "u'energy'"
       ]
      }
     ],
     "prompt_number": 12
    },
    {
     "cell_type": "code",
     "collapsed": false,
     "input": [
      "u.Ry.decompose()"
     ],
     "language": "python",
     "metadata": {
      "slideshow": {
       "slide_type": "fragment"
      }
     },
     "outputs": [
      {
       "latex": [
        "$\\mathrm{2.1798721 \\times 10^{-18}\\,\\frac{m^{2}\\,kg}{s^{2}}}$"
       ],
       "metadata": {},
       "output_type": "pyout",
       "prompt_number": 13,
       "text": [
        "Unit(\"2.17987e-18 kg m2 / s2\")"
       ]
      }
     ],
     "prompt_number": 13
    },
    {
     "cell_type": "code",
     "collapsed": false,
     "input": [
      "u.Ry.decompose(bases=[u.m, u.N])"
     ],
     "language": "python",
     "metadata": {
      "slideshow": {
       "slide_type": "fragment"
      }
     },
     "outputs": [
      {
       "latex": [
        "$\\mathrm{2.1798721 \\times 10^{-18}\\,N\\,m}$"
       ],
       "metadata": {},
       "output_type": "pyout",
       "prompt_number": 14,
       "text": [
        "Unit(\"2.17987e-18 m N\")"
       ]
      }
     ],
     "prompt_number": 14
    },
    {
     "cell_type": "markdown",
     "metadata": {
      "slideshow": {
       "slide_type": "slide"
      }
     },
     "source": [
      "## Systems"
     ]
    },
    {
     "cell_type": "code",
     "collapsed": false,
     "input": [
      "from astropy.units import si\n",
      "from astropy.units import cgs"
     ],
     "language": "python",
     "metadata": {
      "slideshow": {
       "slide_type": "fragment"
      }
     },
     "outputs": [],
     "prompt_number": 15
    },
    {
     "cell_type": "code",
     "collapsed": false,
     "input": [
      "(u.m / u.s).to_system(cgs)"
     ],
     "language": "python",
     "metadata": {
      "slideshow": {
       "slide_type": "fragment"
      }
     },
     "outputs": [
      {
       "metadata": {},
       "output_type": "pyout",
       "prompt_number": 16,
       "text": [
        "[Unit(\"100 cm / s\"), Unit(\"100 Gal s\")]"
       ]
      }
     ],
     "prompt_number": 16
    },
    {
     "cell_type": "markdown",
     "metadata": {
      "slideshow": {
       "slide_type": "slide"
      }
     },
     "source": [
      "# Units\n",
      "\n",
      "## Michael Droettboom (mdroe@stsci.edu)"
     ]
    },
    {
     "cell_type": "markdown",
     "metadata": {
      "slideshow": {
       "slide_type": "slide"
      }
     },
     "source": [
      "# Models / Fitting\n",
      "\n",
      "## Nadia Dencheva  (dencheva@stsci.edu)\n",
      "\n",
      "- Separates the models from the fitting algorithms"
     ]
    },
    {
     "cell_type": "code",
     "collapsed": false,
     "input": [
      "import numpy as np\n",
      "from numpy.random import RandomState\n",
      "import astropy.modeling as m"
     ],
     "language": "python",
     "metadata": {
      "slideshow": {
       "slide_type": "slide"
      }
     },
     "outputs": [],
     "prompt_number": 17
    },
    {
     "cell_type": "code",
     "collapsed": false,
     "input": [
      "m.fitting.__all__"
     ],
     "language": "python",
     "metadata": {
      "slideshow": {
       "slide_type": "fragment"
      }
     },
     "outputs": [
      {
       "metadata": {},
       "output_type": "pyout",
       "prompt_number": 18,
       "text": [
        "['LinearLSQFitter',\n",
        " 'NonLinearLSQFitter',\n",
        " 'SLSQPFitter',\n",
        " 'JointFitter',\n",
        " 'Fitter']"
       ]
      }
     ],
     "prompt_number": 18
    },
    {
     "cell_type": "code",
     "collapsed": false,
     "input": [
      "p1 = m.models.Poly1DModel(degree=3)"
     ],
     "language": "python",
     "metadata": {
      "slideshow": {
       "slide_type": "slide"
      }
     },
     "outputs": [],
     "prompt_number": 19
    },
    {
     "cell_type": "code",
     "collapsed": false,
     "input": [
      "p1.parameters = [1,2,3,4]\n",
      "p1.parameters"
     ],
     "language": "python",
     "metadata": {
      "slideshow": {
       "slide_type": "fragment"
      }
     },
     "outputs": [
      {
       "metadata": {},
       "output_type": "pyout",
       "prompt_number": 20,
       "text": [
        "[1.0, 2.0, 3.0, 4.0]"
       ]
      }
     ],
     "prompt_number": 20
    },
    {
     "cell_type": "markdown",
     "metadata": {
      "slideshow": {
       "slide_type": "fragment"
      }
     },
     "source": [
      "To evaluate a model, just call it as a function."
     ]
    },
    {
     "cell_type": "code",
     "collapsed": false,
     "input": [
      "x1 = np.arange(1, 10, .1)\n",
      "y1 = p1(x1)\n",
      "plt.plot(x1, y1)"
     ],
     "language": "python",
     "metadata": {
      "slideshow": {
       "slide_type": "fragment"
      }
     },
     "outputs": [
      {
       "metadata": {},
       "output_type": "pyout",
       "prompt_number": 21,
       "text": [
        "[<matplotlib.lines.Line2D at 0x3306dd0>]"
       ]
      },
      {
       "metadata": {},
       "output_type": "display_data",
       "png": "[encoded data removed]",
       "text": [
        "<matplotlib.figure.Figure at 0x32e0710>"
       ]
      }
     ],
     "prompt_number": 21
    },
    {
     "cell_type": "markdown",
     "metadata": {
      "slideshow": {
       "slide_type": "slide"
      }
     },
     "source": [
      "# Fitting\n",
      "\n",
      "To demonstrate fitting, add some noise to the data"
     ]
    },
    {
     "cell_type": "code",
     "collapsed": false,
     "input": [
      "rsn = RandomState(1234)\n",
      "n = rsn.randn(90)\n",
      "noised = y1 + 200*n\n",
      "plt.plot(x1, noised)"
     ],
     "language": "python",
     "metadata": {
      "slideshow": {
       "slide_type": "fragment"
      }
     },
     "outputs": [
      {
       "metadata": {},
       "output_type": "pyout",
       "prompt_number": 22,
       "text": [
        "[<matplotlib.lines.Line2D at 0x2ce2c50>]"
       ]
      },
      {
       "metadata": {},
       "output_type": "display_data",
       "png": "[encoded data removed]",
       "text": [
        "<matplotlib.figure.Figure at 0x3515490>"
       ]
      }
     ],
     "prompt_number": 22
    },
    {
     "cell_type": "code",
     "collapsed": false,
     "input": [
      "pfit = m.fitting.LinearLSQFitter(p1)\n",
      "pfit(x1, noised)"
     ],
     "language": "python",
     "metadata": {
      "slideshow": {
       "slide_type": "fragment"
      }
     },
     "outputs": [],
     "prompt_number": 23
    },
    {
     "cell_type": "code",
     "collapsed": false,
     "input": [
      "p1.parameters"
     ],
     "language": "python",
     "metadata": {
      "slideshow": {
       "slide_type": "fragment"
      }
     },
     "outputs": [
      {
       "metadata": {},
       "output_type": "pyout",
       "prompt_number": 24,
       "text": [
        "[-92.418856755203606,\n",
        " 89.019906127580882,\n",
        " -16.775976195154048,\n",
        " 5.298905982207506]"
       ]
      }
     ],
     "prompt_number": 24
    },
    {
     "cell_type": "code",
     "collapsed": false,
     "input": [
      "plt.plot(x1, y1, label=\"model\", lw=4, alpha=0.2)\n",
      "plt.plot(x1, noised, label=\"noised\")\n",
      "plt.plot(x1, p1(x1), label=\"fitted\")\n",
      "legend(loc=\"best\")"
     ],
     "language": "python",
     "metadata": {
      "slideshow": {
       "slide_type": "slide"
      }
     },
     "outputs": [
      {
       "metadata": {},
       "output_type": "pyout",
       "prompt_number": 25,
       "text": [
        "<matplotlib.legend.Legend at 0x36a4490>"
       ]
      },
      {
       "metadata": {},
       "output_type": "display_data",
       "png": "[encoded data removed]",
       "text": [
        "<matplotlib.figure.Figure at 0x2f7d550>"
       ]
      }
     ],
     "prompt_number": 25
    },
    {
     "cell_type": "markdown",
     "metadata": {
      "slideshow": {
       "slide_type": "slide"
      }
     },
     "source": [
      "# Constraints\n",
      "\n",
      "- `fixed`: Specify parameters which should be kept fixed during fitting.\n",
      "\n",
      "- `tied`: Specify a relationship between parameters (using functions).\n",
      "        \n",
      "- `bounds`: Specify domain of parameters. \n",
      "\n",
      "- `eqcons`: Optimization function for a parameter where `func(x0, *args) == 0.0` is a successfully optimized problem.\n",
      "\n",
      "- `ineqcons`: Optimization function for a parameter where `func(x0, *args) >= 0.0` is a successfully optimized problem.\n",
      "    \n",
      "Different fitters support different types of constraints.\n"
     ]
    },
    {
     "cell_type": "code",
     "collapsed": false,
     "input": [
      "[item for item in m.fitting.constraintsdef.items()]"
     ],
     "language": "python",
     "metadata": {
      "slideshow": {
       "slide_type": "fragment"
      }
     },
     "outputs": [
      {
       "metadata": {},
       "output_type": "pyout",
       "prompt_number": 26,
       "text": [
        "[('LinearLSQFitter', ['fixed']),\n",
        " ('SLSQPFitter', ['bounds', 'eqcons', 'ineqcons', 'fixed', 'tied']),\n",
        " ('NonLinearLSQFitter', ['fixed', 'tied', 'bounds'])]"
       ]
      }
     ],
     "prompt_number": 26
    },
    {
     "cell_type": "code",
     "collapsed": false,
     "input": [
      "gauss = m.models.Gaussian1DModel(amplitude=10, mean=5.3, stddev=1.1)\n",
      "gauss.amplitude.fixed = True\n",
      "print(gauss.amplitude.fixed)\n",
      "print(gauss.constraints.fixed)"
     ],
     "language": "python",
     "metadata": {
      "slideshow": {
       "slide_type": "slide"
      }
     },
     "outputs": [
      {
       "output_type": "stream",
       "stream": "stdout",
       "text": [
        "True\n",
        "{'stddev': False, 'amplitude': True, 'mean': False}\n"
       ]
      }
     ],
     "prompt_number": 27
    },
    {
     "cell_type": "code",
     "collapsed": false,
     "input": [
      "fitter = m.fitting.NonLinearLSQFitter(gauss)\n",
      "fitter(x1, gauss(x1)+n)\n",
      "print('amplitude:',  gauss.amplitude)\n",
      "print('parameters:', gauss.parameters)"
     ],
     "language": "python",
     "metadata": {
      "slideshow": {
       "slide_type": "fragment"
      }
     },
     "outputs": [
      {
       "output_type": "stream",
       "stream": "stdout",
       "text": [
        "('amplitude:', [10.0])\n",
        "('parameters:', [10.0, 5.2630044972925516, 1.1150595481502228])\n"
       ]
      }
     ],
     "prompt_number": 28
    },
    {
     "cell_type": "markdown",
     "metadata": {
      "slideshow": {
       "slide_type": "slide"
      }
     },
     "source": [
      "## Composite Models\n",
      "\n",
      "Models may be combined in a number of ways... serial, parallel"
     ]
    },
    {
     "cell_type": "code",
     "collapsed": false,
     "input": [
      "def ellipse(r1, r2):\n",
      "    alpha = np.arange(0, 2* np.pi, .1)\n",
      "    x = r1 * np.sin(alpha)\n",
      "    y = r2 * np.cos(alpha)\n",
      "    return x, y\n",
      "\n",
      "x, y = ellipse(2, 2)\n",
      "ex, ey = ellipse(4, 2)\n",
      "plt.plot(x, y)\n",
      "plt.plot(ex, ey)\n",
      "plt.xlim(-4, 4)\n",
      "plt.ylim(-4, 4)"
     ],
     "language": "python",
     "metadata": {
      "slideshow": {
       "slide_type": "fragment"
      }
     },
     "outputs": [
      {
       "metadata": {},
       "output_type": "pyout",
       "prompt_number": 46,
       "text": [
        "(-4, 4)"
       ]
      },
      {
       "metadata": {},
       "output_type": "display_data",
       "png": "[encoded data removed]",
       "text": [
        "<matplotlib.figure.Figure at 0x3c141d0>"
       ]
      }
     ],
     "prompt_number": 46
    },
    {
     "cell_type": "code",
     "collapsed": false,
     "input": [
      "offx = m.models.ShiftModel(-1.3)\n",
      "offy = m.models.ShiftModel(-2.1)\n",
      "x1 = offx(x)\n",
      "y1 = offy(y)\n",
      "plt.plot(x1, y1)\n",
      "plt.plot(ex, ey)\n",
      "plt.xlim(-4, 4)\n",
      "plt.ylim(-4, 4)"
     ],
     "language": "python",
     "metadata": {
      "slideshow": {
       "slide_type": "slide"
      }
     },
     "outputs": [
      {
       "metadata": {},
       "output_type": "pyout",
       "prompt_number": 50,
       "text": [
        "(-4, 4)"
       ]
      },
      {
       "metadata": {},
       "output_type": "display_data",
       "png": "[encoded data removed]",
       "text": [
        "<matplotlib.figure.Figure at 0x4545ed0>"
       ]
      }
     ],
     "prompt_number": 50
    },
    {
     "cell_type": "code",
     "collapsed": false,
     "input": [
      "rot = m.models.MatrixRotation2D(angle=90)\n",
      "ex1, ey1 = rot(ex, ey)\n",
      "plt.plot(x1, y1)\n",
      "plt.plot(ex1, ey1)\n",
      "plt.xlim(-4, 4)\n",
      "plt.ylim(-4, 4)"
     ],
     "language": "python",
     "metadata": {
      "slideshow": {
       "slide_type": "slide"
      }
     },
     "outputs": [
      {
       "metadata": {},
       "output_type": "pyout",
       "prompt_number": 49,
       "text": [
        "[<matplotlib.lines.Line2D at 0x4533750>]"
       ]
      },
      {
       "metadata": {},
       "output_type": "display_data",
       "png": "[encoded data removed]",
       "text": [
        "<matplotlib.figure.Figure at 0x4533050>"
       ]
      }
     ],
     "prompt_number": 49
    },
    {
     "cell_type": "code",
     "collapsed": false,
     "input": [
      "scomp = m.SCompositeModel(\n",
      "    [offx, offy, rot], \n",
      "    inmap=[['x'], ['y'], ['ex', 'ey']], \n",
      "    outmap=[['x'], ['y'], ['ex', 'ey']])\n",
      "\n",
      "labeled_input = m.LabeledInput([ex, ey, x, y], ['ex', 'ey', 'x', 'y'])\n",
      "result = scomp(labeled_input)\n",
      "plt.plot(result.x, result.y)\n",
      "plt.plot(result.ex, result.ey)\n",
      "plt.xlim(-4, 4)\n",
      "plt.ylim(-4, 4)"
     ],
     "language": "python",
     "metadata": {
      "slideshow": {
       "slide_type": "slide"
      }
     },
     "outputs": [
      {
       "metadata": {},
       "output_type": "pyout",
       "prompt_number": 53,
       "text": [
        "[<matplotlib.lines.Line2D at 0x4539310>]"
       ]
      },
      {
       "metadata": {},
       "output_type": "display_data",
       "png": "[encoded data removed]",
       "text": [
        "<matplotlib.figure.Figure at 0x4539050>"
       ]
      }
     ],
     "prompt_number": 53
    },
    {
     "cell_type": "markdown",
     "metadata": {
      "slideshow": {
       "slide_type": "slide"
      }
     },
     "source": [
      "# Modeling\n",
      "\n",
      "## Nadia Dencheva (dencheva@stsci.edu)"
     ]
    },
    {
     "cell_type": "markdown",
     "metadata": {
      "slideshow": {
       "slide_type": "slide"
      }
     },
     "source": [
      "# Tables\n",
      "\n",
      "## Tom Aldcroft (taldcroft@cfa.harvard.edu)\n",
      "\n",
      "- Began life as ATpy\n",
      "\n",
      "- Adds a layer of common functionality on top of Numpy structured arrays, making them much more flexible."
     ]
    },
    {
     "cell_type": "markdown",
     "metadata": {},
     "source": [
      "## vs. Pandas\n",
      "\n",
      "- Multidimensional columns\n",
      "- Metadata support\n",
      "- Missing values use masks, not NaNs\n",
      "\n"
     ]
    },
    {
     "cell_type": "markdown",
     "metadata": {
      "slideshow": {
       "slide_type": "slide"
      }
     },
     "source": [
      "## Initialize from all kinds of things\n",
      "\n",
      "#### list of columns"
     ]
    },
    {
     "cell_type": "code",
     "collapsed": false,
     "input": [
      "from astropy.table import Table, Column\n",
      "a = [1, 4, 5]\n",
      "b = [2.0, 5.0, 8.2]\n",
      "c = ['x', 'y', 'z']\n",
      "t = Table([a, b, c], names=('a', 'b', 'c'), meta={'name': 'first table'})\n",
      "t"
     ],
     "language": "python",
     "metadata": {
      "slideshow": {
       "slide_type": "fragment"
      }
     },
     "outputs": [
      {
       "html": [
        "<table><tr><th>a</th><th>b</th><th>c</th></tr><tr><td>1</td><td>2.0</td><td>x</td></tr><tr><td>4</td><td>5.0</td><td>y</td></tr><tr><td>5</td><td>8.2</td><td>z</td></tr></table>"
       ],
       "metadata": {},
       "output_type": "pyout",
       "prompt_number": 54,
       "text": [
        "<Table rows=3 names=('a','b','c')>\n",
        "array([(1, 2.0, 'x'), (4, 5.0, 'y'), (5, 8.2, 'z')], \n",
        "      dtype=[('a', '<i8'), ('b', '<f8'), ('c', 'S1')])"
       ]
      }
     ],
     "prompt_number": 54
    },
    {
     "cell_type": "markdown",
     "metadata": {
      "slideshow": {
       "slide_type": "fragment"
      }
     },
     "source": [
      "#### List of rows"
     ]
    },
    {
     "cell_type": "code",
     "collapsed": false,
     "input": [
      "data = [{'a': 1, 'b': 2.0, 'c': 'x'}, \n",
      "        {'a': 4, 'b': 5.0, 'c': 'y'},\n",
      "        {'a': 5, 'b': 8.2, 'c': 'z'}]\n",
      "t = Table(data)\n",
      "t"
     ],
     "language": "python",
     "metadata": {
      "slideshow": {
       "slide_type": "fragment"
      }
     },
     "outputs": [
      {
       "html": [
        "<table><tr><th>a</th><th>b</th><th>c</th></tr><tr><td>1</td><td>2.0</td><td>x</td></tr><tr><td>4</td><td>5.0</td><td>y</td></tr><tr><td>5</td><td>8.2</td><td>z</td></tr></table>"
       ],
       "metadata": {},
       "output_type": "pyout",
       "prompt_number": 55,
       "text": [
        "<Table rows=3 names=('a','b','c')>\n",
        "array([(1, 2.0, 'x'), (4, 5.0, 'y'), (5, 8.2, 'z')], \n",
        "      dtype=[('a', '<i8'), ('b', '<f8'), ('c', 'S1')])"
       ]
      }
     ],
     "prompt_number": 55
    },
    {
     "cell_type": "markdown",
     "metadata": {
      "slideshow": {
       "slide_type": "fragment"
      }
     },
     "source": [
      "#### Dictionary of columns"
     ]
    },
    {
     "cell_type": "code",
     "collapsed": false,
     "input": [
      "data = {'a': [1, 4, 5],\n",
      "        'b': [2.0, 5.0, 8.2],\n",
      "        'c': ['x', 'y', 'z']}\n",
      "t = Table(data, names=('a', 'b', 'c'))\n",
      "t"
     ],
     "language": "python",
     "metadata": {
      "slideshow": {
       "slide_type": "fragment"
      }
     },
     "outputs": [
      {
       "html": [
        "<table><tr><th>a</th><th>b</th><th>c</th></tr><tr><td>1</td><td>2.0</td><td>x</td></tr><tr><td>4</td><td>5.0</td><td>y</td></tr><tr><td>5</td><td>8.2</td><td>z</td></tr></table>"
       ],
       "metadata": {},
       "output_type": "pyout",
       "prompt_number": 56,
       "text": [
        "<Table rows=3 names=('a','b','c')>\n",
        "array([(1, 2.0, 'x'), (4, 5.0, 'y'), (5, 8.2, 'z')], \n",
        "      dtype=[('a', '<i8'), ('b', '<f8'), ('c', 'S1')])"
       ]
      }
     ],
     "prompt_number": 56
    },
    {
     "cell_type": "markdown",
     "metadata": {
      "slideshow": {
       "slide_type": "fragment"
      }
     },
     "source": [
      "#### Numpy structured array"
     ]
    },
    {
     "cell_type": "code",
     "collapsed": false,
     "input": [
      "data = np.array([(1, 2.0, 'x'), (4, 5.0, 'y'), (5, 8.2, 'z')])\n",
      "t = Table(data)\n",
      "t"
     ],
     "language": "python",
     "metadata": {
      "slideshow": {
       "slide_type": "fragment"
      }
     },
     "outputs": [
      {
       "html": [
        "<table><tr><th>col0</th><th>col1</th><th>col2</th></tr><tr><td>1</td><td>2.0</td><td>x</td></tr><tr><td>4</td><td>5.0</td><td>y</td></tr><tr><td>5</td><td>8.2</td><td>z</td></tr></table>"
       ],
       "metadata": {},
       "output_type": "pyout",
       "prompt_number": 57,
       "text": [
        "<Table rows=3 names=('col0','col1','col2')>\n",
        "array([('1', '2.0', 'x'), ('4', '5.0', 'y'), ('5', '8.2', 'z')], \n",
        "      dtype=[('col0', 'S3'), ('col1', 'S3'), ('col2', 'S3')])"
       ]
      }
     ],
     "prompt_number": 57
    },
    {
     "cell_type": "markdown",
     "metadata": {
      "slideshow": {
       "slide_type": "slide"
      }
     },
     "source": [
      "## Modifying tables"
     ]
    },
    {
     "cell_type": "code",
     "collapsed": false,
     "input": [
      "a = [1, 4, 5]\n",
      "b = [2.0, 5.0, 8.2]\n",
      "c = ['x', 'y', 'z']\n",
      "t = Table([a, b, c], names=('a', 'b', 'c'), meta={'name': 'first table'})\n",
      "\n",
      "# Subsetting the columns\n",
      "t['a', 'c']"
     ],
     "language": "python",
     "metadata": {
      "slideshow": {
       "slide_type": "fragment"
      }
     },
     "outputs": [
      {
       "html": [
        "<table><tr><th>a</th><th>c</th></tr><tr><td>1</td><td>x</td></tr><tr><td>4</td><td>y</td></tr><tr><td>5</td><td>z</td></tr></table>"
       ],
       "metadata": {},
       "output_type": "pyout",
       "prompt_number": 58,
       "text": [
        "<Table rows=3 names=('a','c')>\n",
        "array([(1, 'x'), (4, 'y'), (5, 'z')], \n",
        "      dtype=[('a', '<i8'), ('c', 'S1')])"
       ]
      }
     ],
     "prompt_number": 58
    },
    {
     "cell_type": "code",
     "collapsed": false,
     "input": [
      "# Adding a column\n",
      "t['d'] = [1, 2, 3]\n",
      "t"
     ],
     "language": "python",
     "metadata": {
      "slideshow": {
       "slide_type": "fragment"
      }
     },
     "outputs": [
      {
       "html": [
        "<table><tr><th>a</th><th>b</th><th>c</th><th>d</th></tr><tr><td>1</td><td>2.0</td><td>x</td><td>1</td></tr><tr><td>4</td><td>5.0</td><td>y</td><td>2</td></tr><tr><td>5</td><td>8.2</td><td>z</td><td>3</td></tr></table>"
       ],
       "metadata": {},
       "output_type": "pyout",
       "prompt_number": 59,
       "text": [
        "<Table rows=3 names=('a','b','c','d')>\n",
        "array([(1, 2.0, 'x', 1), (4, 5.0, 'y', 2), (5, 8.2, 'z', 3)], \n",
        "      dtype=[('a', '<i8'), ('b', '<f8'), ('c', 'S1'), ('d', '<i8')])"
       ]
      }
     ],
     "prompt_number": 59
    },
    {
     "cell_type": "code",
     "collapsed": false,
     "input": [
      "# Deleting a column\n",
      "del t['c']\n",
      "t"
     ],
     "language": "python",
     "metadata": {
      "slideshow": {
       "slide_type": "fragment"
      }
     },
     "outputs": [
      {
       "html": [
        "<table><tr><th>a</th><th>b</th><th>d</th></tr><tr><td>1</td><td>2.0</td><td>1</td></tr><tr><td>4</td><td>5.0</td><td>2</td></tr><tr><td>5</td><td>8.2</td><td>3</td></tr></table>"
       ],
       "metadata": {},
       "output_type": "pyout",
       "prompt_number": 60,
       "text": [
        "<Table rows=3 names=('a','b','d')>\n",
        "array([(1, 2.0, 1), (4, 5.0, 2), (5, 8.2, 3)], \n",
        "      dtype=[('a', '<i8'), ('b', '<f8'), ('d', '<i8')])"
       ]
      }
     ],
     "prompt_number": 60
    },
    {
     "cell_type": "code",
     "collapsed": false,
     "input": [
      "# Renaming a column\n",
      "t.rename_column('a', 'A')\n",
      "t"
     ],
     "language": "python",
     "metadata": {
      "slideshow": {
       "slide_type": "fragment"
      }
     },
     "outputs": [
      {
       "html": [
        "<table><tr><th>A</th><th>b</th><th>d</th></tr><tr><td>1</td><td>2.0</td><td>1</td></tr><tr><td>4</td><td>5.0</td><td>2</td></tr><tr><td>5</td><td>8.2</td><td>3</td></tr></table>"
       ],
       "metadata": {},
       "output_type": "pyout",
       "prompt_number": 61,
       "text": [
        "<Table rows=3 names=('A','b','d')>\n",
        "array([(1, 2.0, 1), (4, 5.0, 2), (5, 8.2, 3)], \n",
        "      dtype=[('A', '<i8'), ('b', '<f8'), ('d', '<i8')])"
       ]
      }
     ],
     "prompt_number": 61
    },
    {
     "cell_type": "code",
     "collapsed": false,
     "input": [
      "# Add a row\n",
      "t.add_row([-8, -9, 10])\n",
      "t"
     ],
     "language": "python",
     "metadata": {
      "slideshow": {
       "slide_type": "fragment"
      }
     },
     "outputs": [
      {
       "html": [
        "<table><tr><th>A</th><th>b</th><th>d</th></tr><tr><td>1</td><td>2.0</td><td>1</td></tr><tr><td>4</td><td>5.0</td><td>2</td></tr><tr><td>5</td><td>8.2</td><td>3</td></tr><tr><td>-8</td><td>-9.0</td><td>10</td></tr></table>"
       ],
       "metadata": {},
       "output_type": "pyout",
       "prompt_number": 62,
       "text": [
        "<Table rows=4 names=('A','b','d')>\n",
        "array([(1, 2.0, 1), (4, 5.0, 2), (5, 8.2, 3), (-8, -9.0, 10)], \n",
        "      dtype=[('A', '<i8'), ('b', '<f8'), ('d', '<i8')])"
       ]
      }
     ],
     "prompt_number": 62
    },
    {
     "cell_type": "markdown",
     "metadata": {
      "slideshow": {
       "slide_type": "slide"
      }
     },
     "source": [
      "## Masked values"
     ]
    },
    {
     "cell_type": "code",
     "collapsed": false,
     "input": [
      "t = Table([(1, 2), (3, 4)], names=('a', 'b'), masked=True)\n",
      "t.mask['a'] = [False, True]  # Modify table mask (structured array)\n",
      "t['b'].mask = [True, False]  # Modify column mask (boolean array)\n",
      "t"
     ],
     "language": "python",
     "metadata": {
      "slideshow": {
       "slide_type": "fragment"
      }
     },
     "outputs": [
      {
       "html": [
        "<table><tr><th>a</th><th>b</th></tr><tr><td>1</td><td>--</td></tr><tr><td>--</td><td>4</td></tr></table>"
       ],
       "metadata": {},
       "output_type": "pyout",
       "prompt_number": 63,
       "text": [
        "<Table rows=2 names=('a','b')>\n",
        "masked_array(data = [(1, --) (--, 4)],\n",
        "             mask = [(False, True) (True, False)],\n",
        "       fill_value = (999999, 999999),\n",
        "            dtype = [('a', '<i8'), ('b', '<i8')])\n"
       ]
      }
     ],
     "prompt_number": 63
    },
    {
     "cell_type": "markdown",
     "metadata": {
      "slideshow": {
       "slide_type": "slide"
      }
     },
     "source": [
      "## Formatting"
     ]
    },
    {
     "cell_type": "code",
     "collapsed": false,
     "input": [
      "t['b'].format = \"{0:.4f}\"\n",
      "t"
     ],
     "language": "python",
     "metadata": {
      "slideshow": {
       "slide_type": "fragment"
      }
     },
     "outputs": [
      {
       "metadata": {},
       "output_type": "pyout",
       "prompt_number": 64,
       "text": [
        "<Table rows=2 names=('a','b')>\n",
        "masked_array(data = [(1, --) (--, 4)],\n",
        "             mask = [(False, True) (True, False)],\n",
        "       fill_value = (999999, 999999),\n",
        "            dtype = [('a', '<i8'), ('b', '<i8')])\n"
       ]
      }
     ],
     "prompt_number": 64
    },
    {
     "cell_type": "code",
     "collapsed": false,
     "input": [
      "arr = np.arange(3000).reshape(100, 30)  # 100 rows x 30 columns array\n",
      "t = Table(arr)\n",
      "print t"
     ],
     "language": "python",
     "metadata": {
      "slideshow": {
       "slide_type": "fragment"
      }
     },
     "outputs": [
      {
       "output_type": "stream",
       "stream": "stdout",
       "text": [
        "col0 col1 col2 col3 col4 col5 col6 ... col23 col24 col25 col26 col27 col28 col29\n",
        "---- ---- ---- ---- ---- ---- ---- ... ----- ----- ----- ----- ----- ----- -----\n",
        "   0    1    2    3    4    5    6 ...    23    24    25    26    27    28    29\n",
        "  30   31   32   33   34   35   36 ...    53    54    55    56    57    58    59\n",
        "  60   61   62   63   64   65   66 ...    83    84    85    86    87    88    89\n",
        "  90   91   92   93   94   95   96 ...   113   114   115   116   117   118   119\n",
        " 120  121  122  123  124  125  126 ...   143   144   145   146   147   148   149\n",
        " 150  151  152  153  154  155  156 ...   173   174   175   176   177   178   179\n",
        " 180  181  182  183  184  185  186 ...   203   204   205   206   207   208   209\n",
        " 210  211  212  213  214  215  216 ...   233   234   235   236   237   238   239\n",
        " 240  241  242  243  244  245  246 ...   263   264   265   266   267   268   269\n",
        " 270  271  272  273  274  275  276 ...   293   294   295   296   297   298   299\n",
        " 300  301  302  303  304  305  306 ...   323   324   325   326   327   328   329\n",
        " ...  ...  ...  ...  ...  ...  ... ...   ...   ...   ...   ...   ...   ...   ...\n",
        "2670 2671 2672 2673 2674 2675 2676 ...  2693  2694  2695  2696  2697  2698  2699\n",
        "2700 2701 2702 2703 2704 2705 2706 ...  2723  2724  2725  2726  2727  2728  2729\n",
        "2730 2731 2732 2733 2734 2735 2736 ...  2753  2754  2755  2756  2757  2758  2759\n",
        "2760 2761 2762 2763 2764 2765 2766 ...  2783  2784  2785  2786  2787  2788  2789\n",
        "2790 2791 2792 2793 2794 2795 2796 ...  2813  2814  2815  2816  2817  2818  2819\n",
        "2820 2821 2822 2823 2824 2825 2826 ...  2843  2844  2845  2846  2847  2848  2849\n",
        "2850 2851 2852 2853 2854 2855 2856 ...  2873  2874  2875  2876  2877  2878  2879\n",
        "2880 2881 2882 2883 2884 2885 2886 ...  2903  2904  2905  2906  2907  2908  2909\n",
        "2910 2911 2912 2913 2914 2915 2916 ...  2933  2934  2935  2936  2937  2938  2939\n",
        "2940 2941 2942 2943 2944 2945 2946 ...  2963  2964  2965  2966  2967  2968  2969\n",
        "2970 2971 2972 2973 2974 2975 2976 ...  2993  2994  2995  2996  2997  2998  2999\n"
       ]
      }
     ],
     "prompt_number": 65
    },
    {
     "cell_type": "markdown",
     "metadata": {
      "slideshow": {
       "slide_type": "slide"
      }
     },
     "source": [
      "## Table I/O\n",
      "\n",
      "- Text-based formats:\n",
      "    - IPAC\n",
      "    - CDS\n",
      "    - DAOPhot\n",
      "    - LaTeX\n",
      "    - RDB\n",
      "   \n",
      "- Binary formats:\n",
      "    - FITS\n",
      "    - HDF5 (using h5py)\n",
      "    \n",
      "- XML formats:\n",
      "    - VO Tables"
     ]
    },
    {
     "cell_type": "code",
     "collapsed": false,
     "input": [
      "t = Table.read(\"votable.xml\")\n",
      "t"
     ],
     "language": "python",
     "metadata": {
      "slideshow": {
       "slide_type": "fragment"
      }
     },
     "outputs": [
      {
       "output_type": "stream",
       "stream": "stdout",
       "text": [
        "WARNING: W50: None:20:3: W50: Invalid unit string '---' [astropy.io.votable.exceptions]\n",
        "WARNING: W50: None:177:3: W50: Invalid unit string '---' [astropy.io.votable.exceptions]\n",
        "WARNING: W18: None:206:10: W18: TABLE specified nrows=18949, but table contains 1 rows [astropy.io.votable.exceptions]\n",
        "WARNING: Warning: converting a masked element to nan. [numpy.ma.core]\n"
       ]
      },
      {
       "html": [
        "<table><tr><th>col1</th><th>col2</th><th>col3</th><th>col4</th><th>...</th><th>col14</th><th>col15</th><th>col16</th><th>col17</th></tr><tr><td>SSTGLMC G000.0000+00.1611</td><td>0.0000</td><td>0.1611</td><td>266.2480</td><td>...</td><td>8.17</td><td>nan</td><td>nan</td><td>AA</td></tr></table>"
       ],
       "metadata": {},
       "output_type": "pyout",
       "prompt_number": 66,
       "text": [
        "<Table rows=1 names=('col1','col2','col3','col4','col5','col6','col7','col8','col9','col10','col11','col12','col13','col14','col15','col16','col17')>\n",
        "masked_array(data = [ ('SSTGLMC G000.0000+00.1611', 0.0, 0.16110000014305115, 266.24798583984375, -28.852100372314453, --, --, --, 9.779999732971191, 9.1899995803833, 8.640000343322754, 8.050000190734863, 9.130000114440918, 8.170000076293945, --, --, 'AA')],\n",
        "             mask = [ (False, False, False, False, False, True, True, True, False, False, False, False, False, False, True, True, False)],\n",
        "       fill_value = ('N/A', 1.0000000200408773e+20, 1.0000000200408773e+20, 1.0000000200408773e+20, 1.0000000200408773e+20, 1.0000000200408773e+20, 1.0000000200408773e+20, 1.0000000200408773e+20, 1.0000000200408773e+20, 1.0000000200408773e+20, 1.0000000200408773e+20, 1.0000000200408773e+20, 1.0000000200408773e+20, 1.0000000200408773e+20, 1.0000000200408773e+20, 1.0000000200408773e+20, 'N/'),\n",
        "            dtype = [('col1', 'S25'), ('col2', '<f4'), ('col3', '<f4'), ('col4', '<f4'), ('col5', '<f4'), ('col6', '<f4'), ('col7', '<f4'), ('col8', '<f4'), ('col9', '<f4'), ('col10', '<f4'), ('col11', '<f4'), ('col12', '<f4'), ('col13', '<f4'), ('col14', '<f4'), ('col15', '<f4'), ('col16', '<f4'), ('col17', 'S2')])\n"
       ]
      }
     ],
     "prompt_number": 66
    },
    {
     "cell_type": "code",
     "collapsed": false,
     "input": [
      "optical = Table.read(\"\"\"name    obs_date    mag_b  mag_v\n",
      "                        M31     2012-01-02  17.0   16.0\n",
      "                        M82     2012-10-29  16.2   15.2\n",
      "                        M101    2012-10-31  15.1   15.5\"\"\", format='ascii')"
     ],
     "language": "python",
     "metadata": {
      "slideshow": {
       "slide_type": "fragment"
      }
     },
     "outputs": [],
     "prompt_number": 67
    },
    {
     "cell_type": "markdown",
     "metadata": {
      "slideshow": {
       "slide_type": "slide"
      }
     },
     "source": [
      "## Database operations"
     ]
    },
    {
     "cell_type": "code",
     "collapsed": false,
     "input": [
      "from astropy.table import Table, join\n",
      "optical = Table.read(\"\"\"name    obs_date    mag_b  mag_v\n",
      "                        M31     2012-01-02  17.0   16.0\n",
      "                        M82     2012-10-29  16.2   15.2\n",
      "                        M101    2012-10-31  15.1   15.5\"\"\", format='ascii')\n",
      "\n",
      "xray = Table.read(\"\"\"   name    obs_date    logLx\n",
      "                        NGC3516 2011-11-11  42.1\n",
      "                        M31     1999-01-05  43.1\n",
      "                        M82     2012-10-29  45.0\"\"\", format='ascii')"
     ],
     "language": "python",
     "metadata": {
      "slideshow": {
       "slide_type": "fragment"
      }
     },
     "outputs": [],
     "prompt_number": 68
    },
    {
     "cell_type": "code",
     "collapsed": false,
     "input": [
      "optical"
     ],
     "language": "python",
     "metadata": {
      "slideshow": {
       "slide_type": "slide"
      }
     },
     "outputs": [
      {
       "html": [
        "<table><tr><th>name</th><th>obs_date</th><th>mag_b</th><th>mag_v</th></tr><tr><td>M31</td><td>2012-01-02</td><td>17.0</td><td>16.0</td></tr><tr><td>M82</td><td>2012-10-29</td><td>16.2</td><td>15.2</td></tr><tr><td>M101</td><td>2012-10-31</td><td>15.1</td><td>15.5</td></tr></table>"
       ],
       "metadata": {},
       "output_type": "pyout",
       "prompt_number": 69,
       "text": [
        "<Table rows=3 names=('name','obs_date','mag_b','mag_v')>\n",
        "array([('M31', '2012-01-02', 17.0, 16.0),\n",
        "       ('M82', '2012-10-29', 16.2, 15.2),\n",
        "       ('M101', '2012-10-31', 15.1, 15.5)], \n",
        "      dtype=[('name', 'S4'), ('obs_date', 'S10'), ('mag_b', '<f8'), ('mag_v', '<f8')])"
       ]
      }
     ],
     "prompt_number": 69
    },
    {
     "cell_type": "code",
     "collapsed": false,
     "input": [
      "xray"
     ],
     "language": "python",
     "metadata": {
      "slideshow": {
       "slide_type": "fragment"
      }
     },
     "outputs": [
      {
       "html": [
        "<table><tr><th>name</th><th>obs_date</th><th>logLx</th></tr><tr><td>NGC3516</td><td>2011-11-11</td><td>42.1</td></tr><tr><td>M31</td><td>1999-01-05</td><td>43.1</td></tr><tr><td>M82</td><td>2012-10-29</td><td>45.0</td></tr></table>"
       ],
       "metadata": {},
       "output_type": "pyout",
       "prompt_number": 70,
       "text": [
        "<Table rows=3 names=('name','obs_date','logLx')>\n",
        "array([('NGC3516', '2011-11-11', 42.1), ('M31', '1999-01-05', 43.1),\n",
        "       ('M82', '2012-10-29', 45.0)], \n",
        "      dtype=[('name', 'S7'), ('obs_date', 'S10'), ('logLx', '<f8')])"
       ]
      }
     ],
     "prompt_number": 70
    },
    {
     "cell_type": "code",
     "collapsed": false,
     "input": [
      "join(optical, xray)"
     ],
     "language": "python",
     "metadata": {
      "slideshow": {
       "slide_type": "fragment"
      }
     },
     "outputs": [
      {
       "html": [
        "<table><tr><th>name</th><th>obs_date</th><th>mag_b</th><th>mag_v</th><th>logLx</th></tr><tr><td>M82</td><td>2012-10-29</td><td>16.2</td><td>15.2</td><td>45.0</td></tr></table>"
       ],
       "metadata": {},
       "output_type": "pyout",
       "prompt_number": 36,
       "text": [
        "<Table rows=1 names=('name','obs_date','mag_b','mag_v','logLx')>\n",
        "array([('M82', '2012-10-29', 16.2, 15.2, 45.0)], \n",
        "      dtype=[('name', 'S7'), ('obs_date', 'S10'), ('mag_b', '<f8'), ('mag_v', '<f8'), ('logLx', '<f8')])"
       ]
      }
     ],
     "prompt_number": 36
    },
    {
     "cell_type": "code",
     "collapsed": false,
     "input": [
      "join(optical, xray, keys=\"name\")"
     ],
     "language": "python",
     "metadata": {
      "slideshow": {
       "slide_type": "fragment"
      }
     },
     "outputs": [
      {
       "html": [
        "<table><tr><th>name</th><th>obs_date_1</th><th>mag_b</th><th>mag_v</th><th>obs_date_2</th><th>logLx</th></tr><tr><td>M31</td><td>2012-01-02</td><td>17.0</td><td>16.0</td><td>1999-01-05</td><td>43.1</td></tr><tr><td>M82</td><td>2012-10-29</td><td>16.2</td><td>15.2</td><td>2012-10-29</td><td>45.0</td></tr></table>"
       ],
       "metadata": {},
       "output_type": "pyout",
       "prompt_number": 37,
       "text": [
        "<Table rows=2 names=('name','obs_date_1','mag_b','mag_v','obs_date_2','logLx')>\n",
        "array([('M31', '2012-01-02', 17.0, 16.0, '1999-01-05', 43.1),\n",
        "       ('M82', '2012-10-29', 16.2, 15.2, '2012-10-29', 45.0)], \n",
        "      dtype=[('name', 'S7'), ('obs_date_1', 'S10'), ('mag_b', '<f8'), ('mag_v', '<f8'), ('obs_date_2', 'S10'), ('logLx', '<f8')])"
       ]
      }
     ],
     "prompt_number": 37
    },
    {
     "cell_type": "markdown",
     "metadata": {
      "slideshow": {
       "slide_type": "slide"
      }
     },
     "source": [
      "# Questions?\n",
      "\n",
      "## astropy.org\n",
      "\n",
      "## Michael Droettboom (Units) mdroe@stsci.edu\n",
      "\n",
      "## Nadia Dencheva (Modeling) dencheva@stsci.edu\n",
      "\n",
      "## Tom Aldcroft (Tables) taldcroft@cfa.harvard.edu"
     ]
    }
   ],
   "metadata": {}
  }
 ]
}